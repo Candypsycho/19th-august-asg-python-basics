{
 "cells": [
  {
   "cell_type": "code",
   "execution_count": 1,
   "id": "a75a5466-ca8d-431e-b93e-2a12b94c5abd",
   "metadata": {},
   "outputs": [
    {
     "name": "stdout",
     "output_type": "stream",
     "text": [
      "30\n",
      "20\n"
     ]
    }
   ],
   "source": [
    "#python basic variables\n",
    "#1\n",
    "x=20\n",
    "y=30\n",
    "x,y=30,20\n",
    "print(x)\n",
    "print(y)"
   ]
  },
  {
   "cell_type": "code",
   "execution_count": 3,
   "id": "e41997e1-4f3b-422a-bef2-5bfd7b237929",
   "metadata": {},
   "outputs": [
    {
     "name": "stdin",
     "output_type": "stream",
     "text": [
      "enter the length of reactangle 5\n",
      "enter the width 7\n"
     ]
    },
    {
     "name": "stdout",
     "output_type": "stream",
     "text": [
      "the area of reatangle is 35\n"
     ]
    }
   ],
   "source": [
    "#2\n",
    "length=int(input(\"enter the length of reactangle\"))\n",
    "width=int(input(\"enter the width\"))\n",
    "area=length*width\n",
    "print(\"the area of reatangle is\",area)\n",
    "                 "
   ]
  },
  {
   "cell_type": "code",
   "execution_count": 4,
   "id": "6ac6cf8d-fcf9-4d66-9918-c01ee52f3892",
   "metadata": {},
   "outputs": [
    {
     "name": "stdin",
     "output_type": "stream",
     "text": [
      "enter the temperature 32\n"
     ]
    },
    {
     "name": "stdout",
     "output_type": "stream",
     "text": [
      "the temperature in fahrenheit is 89.6\n"
     ]
    }
   ],
   "source": [
    "#3\n",
    "celsius=float(input(\"enter the temperature\"))\n",
    "fahrenheit=(celsius*9/5)+32\n",
    "print(\"the temperature in fahrenheit is\",fahrenheit)"
   ]
  },
  {
   "cell_type": "code",
   "execution_count": 7,
   "id": "ca8d3d1d-53d1-416d-bae3-5cc8e6e41737",
   "metadata": {},
   "outputs": [
    {
     "name": "stdin",
     "output_type": "stream",
     "text": [
      "enter your string pwskills\n"
     ]
    },
    {
     "name": "stdout",
     "output_type": "stream",
     "text": [
      "8\n"
     ]
    }
   ],
   "source": [
    "##string based questions\n",
    "#1\n",
    "word=input(\"enter your string\")\n",
    "l=len(word)\n",
    "print(l)\n"
   ]
  },
  {
   "cell_type": "code",
   "execution_count": 9,
   "id": "21704271-c685-456e-bc29-38cba9f7a81c",
   "metadata": {},
   "outputs": [
    {
     "name": "stdin",
     "output_type": "stream",
     "text": [
      "enter your string this is my second assignment\n"
     ]
    },
    {
     "name": "stdout",
     "output_type": "stream",
     "text": [
      "the total number of vowels in this string are 10\n"
     ]
    }
   ],
   "source": [
    "#2\n",
    "word=input(\"enter your string\")\n",
    "vowels_count=0\n",
    "vowels=\"aeiouAEIOU\"\n",
    "for char in vowels:\n",
    "    if char in vowels:\n",
    "        vowels_count +=1\n",
    "print(\"the total number of vowels in this string are\",vowels_count)"
   ]
  },
  {
   "cell_type": "code",
   "execution_count": 12,
   "id": "bdf6a6da-366b-43fe-9622-91548d3441ad",
   "metadata": {},
   "outputs": [
    {
     "data": {
      "text/plain": [
       "'dlrow olleh'"
      ]
     },
     "execution_count": 12,
     "metadata": {},
     "output_type": "execute_result"
    }
   ],
   "source": [
    "#3\n",
    "string=\"hello world\"\n",
    "string[::-1]\n"
   ]
  },
  {
   "cell_type": "code",
   "execution_count": 18,
   "id": "cc367201-3390-4705-8ed6-e2f070f77941",
   "metadata": {},
   "outputs": [
    {
     "name": "stdin",
     "output_type": "stream",
     "text": [
      "enter a sentence madam\n"
     ]
    },
    {
     "name": "stdout",
     "output_type": "stream",
     "text": [
      "the string you entered is palindrome\n"
     ]
    }
   ],
   "source": [
    "#4\n",
    "input_string=input(\"enter a sentence\")\n",
    "input_string=input_string.replace(\"\" ,\"\").lower()\n",
    "if input_string==input_string[::-1]:\n",
    "    print(\"the string you entered is palindrome\")\n",
    "else:\n",
    "    print(\"it's not a palindrome\")"
   ]
  },
  {
   "cell_type": "code",
   "execution_count": 21,
   "id": "a9ccaeb3-8b9a-4aae-84af-d0260f35286f",
   "metadata": {},
   "outputs": [
    {
     "name": "stdin",
     "output_type": "stream",
     "text": [
      "Enter a string:  hello world\n"
     ]
    },
    {
     "name": "stdout",
     "output_type": "stream",
     "text": [
      "Modified string without spaces: helloworld\n"
     ]
    }
   ],
   "source": [
    "#5\n",
    "# Input a string from the user\n",
    "input_string = input(\"Enter a string: \")\n",
    "\n",
    "# Remove spaces from the string\n",
    "modified_string = \"\".join(input_string.split())\n",
    "\n",
    "# Print the modified string without spaces\n",
    "print(\"Modified string without spaces:\", modified_string)\n"
   ]
  },
  {
   "cell_type": "code",
   "execution_count": null,
   "id": "05aa7f23-5ff0-4399-8996-9d5f479b4fa4",
   "metadata": {},
   "outputs": [],
   "source": []
  }
 ],
 "metadata": {
  "kernelspec": {
   "display_name": "Python 3 (ipykernel)",
   "language": "python",
   "name": "python3"
  },
  "language_info": {
   "codemirror_mode": {
    "name": "ipython",
    "version": 3
   },
   "file_extension": ".py",
   "mimetype": "text/x-python",
   "name": "python",
   "nbconvert_exporter": "python",
   "pygments_lexer": "ipython3",
   "version": "3.10.8"
  }
 },
 "nbformat": 4,
 "nbformat_minor": 5
}
